{
 "cells": [
  {
   "cell_type": "code",
   "execution_count": null,
   "metadata": {},
   "outputs": [],
   "source": [
    "# Carga el archivo CSV en un DataFrame de Pandas.\n",
    "# Muestra las primeras 10 filas del DataFrame para confirmar que los datos se han cargado correctamente.\n",
    "\n",
    "import pandas as pd\n",
    "df = pd.read_csv('../data/supermarket_sales.csv')\n",
    "\n",
    "print('Primeras 10 filas:')\n",
    "print(df.head(10))"
   ]
  },
  {
   "cell_type": "code",
   "execution_count": null,
   "metadata": {},
   "outputs": [],
   "source": [
    "# Muestra las últimas 5 filas del DataFrame.\n",
    "print(\"\\nÚltimas 5 filas:\")\n",
    "print(df.tail(5))"
   ]
  },
  {
   "cell_type": "code",
   "execution_count": null,
   "metadata": {},
   "outputs": [],
   "source": [
    "# Utiliza el método info() para obtener información general sobre el DataFrame, incluyendo el número de entradas, \n",
    "# nombres de las columnas, tipos de datos y memoria utilizada.\n",
    "print(\"\\nInformación del DataFrame:\")\n",
    "print(df.info())"
   ]
  },
  {
   "cell_type": "code",
   "execution_count": null,
   "metadata": {},
   "outputs": [],
   "source": [
    "# Genera estadísticas descriptivas del DataFrame utilizando el método describe().\n",
    "print(\"\\nEstadísticas descriptivas:\")\n",
    "print(df.describe())"
   ]
  },
  {
   "cell_type": "code",
   "execution_count": 5,
   "metadata": {},
   "outputs": [
    {
     "name": "stdout",
     "output_type": "stream",
     "text": [
      "\n",
      "Valores nulos por columna:\n",
      "Invoice ID                 0\n",
      "Branch                     0\n",
      "City                       0\n",
      "Customer type              0\n",
      "Gender                     0\n",
      "Product line               0\n",
      "Unit price                 0\n",
      "Quantity                   0\n",
      "Tax 5%                     0\n",
      "Total                      0\n",
      "Date                       0\n",
      "Time                       0\n",
      "Payment                    0\n",
      "cogs                       0\n",
      "gross margin percentage    0\n",
      "gross income               0\n",
      "Rating                     0\n",
      "dtype: int64\n"
     ]
    }
   ],
   "source": [
    "# Identifica y maneja los datos faltantes utilizando técnicas apropiadas (relleno con valores estadísticos, interpolación, eliminación, etc.).\n",
    "print(\"\\nValores nulos por columna:\")\n",
    "print(df.isnull().sum())"
   ]
  },
  {
   "cell_type": "markdown",
   "metadata": {},
   "source": [
    "# Corrige los tipos de datos si es necesario (por ejemplo, convertir cadenas a fechas).\n",
    "# Elimina duplicados si los hay.\n",
    "\n",
    "no hay valores nulos ni duplicados"
   ]
  },
  {
   "cell_type": "code",
   "execution_count": null,
   "metadata": {},
   "outputs": [],
   "source": [
    "# Crea nuevas columnas basadas en operaciones con las columnas existentes (por ejemplo, calcular ingresos a partir de ventas y precios).\n",
    "df['Ingresos'] = df['Quantity'] * df['Unit price']\n",
    "print(df['Ingresos'])"
   ]
  },
  {
   "cell_type": "code",
   "execution_count": 13,
   "metadata": {},
   "outputs": [
    {
     "name": "stdout",
     "output_type": "stream",
     "text": [
      "0      0.521616\n",
      "1      0.067387\n",
      "2      0.319628\n",
      "3      0.463549\n",
      "4      0.604377\n",
      "         ...   \n",
      "995    0.030707\n",
      "996    0.980465\n",
      "997    0.022049\n",
      "998    0.056622\n",
      "999    0.618835\n",
      "Name: Ingresos_normalizados, Length: 1000, dtype: float64\n"
     ]
    }
   ],
   "source": [
    "# Normalizar la columna 'Ingresos' a una escala de 0 a 1\n",
    "df['Ingresos_normalizados'] = (df['Ingresos'] - df['Ingresos'].min()) / (df['Ingresos'].max() - df['Ingresos'].min())\n",
    "print(df['Ingresos_normalizados'])"
   ]
  },
  {
   "cell_type": "code",
   "execution_count": 11,
   "metadata": {},
   "outputs": [
    {
     "name": "stdout",
     "output_type": "stream",
     "text": [
      "0       Alta\n",
      "1      Media\n",
      "2       Alta\n",
      "3       Alta\n",
      "4       Alta\n",
      "       ...  \n",
      "995     Baja\n",
      "996     Alta\n",
      "997     Baja\n",
      "998    Media\n",
      "999     Alta\n",
      "Name: Categoria_Ingresos, Length: 1000, dtype: category\n",
      "Categories (3, object): ['Baja' < 'Media' < 'Alta']\n"
     ]
    }
   ],
   "source": [
    "# Clasifica los datos en categorías relevantes.\n",
    "# Crear una columna de categorías en base a los ingresos\n",
    "df['Categoria_Ingresos'] = pd.cut(df['Ingresos'], bins=[0, 50, 200, float('inf')], labels=['Baja', 'Media', 'Alta'])\n",
    "print(df['Categoria_Ingresos'])\n"
   ]
  },
  {
   "cell_type": "code",
   "execution_count": 14,
   "metadata": {},
   "outputs": [
    {
     "name": "stdout",
     "output_type": "stream",
     "text": [
      "\n",
      "Total de ingresos por producto:\n",
      "Product line\n",
      "Electronic accessories    54337.5315\n",
      "Fashion accessories       54305.8950\n",
      "Food and beverages        56144.8440\n",
      "Health and beauty         49193.7390\n",
      "Home and lifestyle        53861.9130\n",
      "Sports and travel         55122.8265\n",
      "Name: Total, dtype: float64\n"
     ]
    }
   ],
   "source": [
    "# Agrupación de datos por 'Producto' para obtener el total de ingresos\n",
    "ventas_por_producto = df.groupby('Product line')['Total'].sum()\n",
    "print(\"\\nTotal de ingresos por producto:\")\n",
    "print(ventas_por_producto)\n"
   ]
  },
  {
   "cell_type": "code",
   "execution_count": 15,
   "metadata": {},
   "outputs": [
    {
     "name": "stdout",
     "output_type": "stream",
     "text": [
      "\n",
      "Promedio de ventas y precio por tienda:\n",
      "           Quantity  Unit price        Total\n",
      "City                                        \n",
      "Mandalay   5.481928   55.659277  106197.6720\n",
      "Naypyitaw  5.582317   56.609024  110568.7065\n",
      "Yangon     5.467647   54.780853  106200.3705\n"
     ]
    }
   ],
   "source": [
    "# Promedio de ventas y precio por tienda\n",
    "resumen_tienda = df.groupby('City').agg({'Quantity': 'mean', 'Unit price': 'mean', 'Total': 'sum'})\n",
    "print(\"\\nPromedio de ventas y precio por tienda:\")\n",
    "print(resumen_tienda)\n"
   ]
  },
  {
   "cell_type": "code",
   "execution_count": 17,
   "metadata": {},
   "outputs": [
    {
     "name": "stdout",
     "output_type": "stream",
     "text": [
      "0      7.469\n",
      "1      0.000\n",
      "2      4.633\n",
      "3      5.822\n",
      "4      8.631\n",
      "       ...  \n",
      "995    0.000\n",
      "996    9.738\n",
      "997    0.000\n",
      "998    0.000\n",
      "999    8.834\n",
      "Name: Descuento, Length: 1000, dtype: float64\n"
     ]
    }
   ],
   "source": [
    "# Crear una columna de descuento usando una condición personalizada\n",
    "df['Descuento'] = df.apply(lambda row: row['Unit price'] * 0.1 if row['Categoria_Ingresos'] == 'Alta' else 0, axis=1)\n",
    "print(df['Descuento'])"
   ]
  },
  {
   "cell_type": "code",
   "execution_count": 18,
   "metadata": {},
   "outputs": [
    {
     "name": "stdout",
     "output_type": "stream",
     "text": [
      "    Invoice ID Branch       City Customer type  Gender  \\\n",
      "0  750-67-8428      A     Yangon        Member  Female   \n",
      "1  226-31-3081      C  Naypyitaw        Normal  Female   \n",
      "2  631-41-3108      A     Yangon        Normal    Male   \n",
      "3  123-19-1176      A     Yangon        Member    Male   \n",
      "4  373-73-7910      A     Yangon        Normal    Male   \n",
      "\n",
      "             Product line  Unit price  Quantity   Tax 5%     Total  ...  \\\n",
      "0       Health and beauty       74.69         7  26.1415  548.9715  ...   \n",
      "1  Electronic accessories       15.28         5   3.8200   80.2200  ...   \n",
      "2      Home and lifestyle       46.33         7  16.2155  340.5255  ...   \n",
      "3       Health and beauty       58.22         8  23.2880  489.0480  ...   \n",
      "4       Sports and travel       86.31         7  30.2085  634.3785  ...   \n",
      "\n",
      "    Time      Payment    cogs  gross margin percentage  gross income  Rating  \\\n",
      "0  13:08      Ewallet  522.83                 4.761905       26.1415     9.1   \n",
      "1  10:29         Cash   76.40                 4.761905        3.8200     9.6   \n",
      "2  13:23  Credit card  324.31                 4.761905       16.2155     7.4   \n",
      "3  20:33      Ewallet  465.76                 4.761905       23.2880     8.4   \n",
      "4  10:37      Ewallet  604.17                 4.761905       30.2085     5.3   \n",
      "\n",
      "   Ingresos  Ingresos_normalizados  Categoria_Ingresos Descuento  \n",
      "0    522.83               0.521616                Alta     7.469  \n",
      "1     76.40               0.067387               Media     0.000  \n",
      "2    324.31               0.319628                Alta     4.633  \n",
      "3    465.76               0.463549                Alta     5.822  \n",
      "4    604.17               0.604377                Alta     8.631  \n",
      "\n",
      "[5 rows x 21 columns]\n"
     ]
    }
   ],
   "source": [
    "print(df.head())\n"
   ]
  }
 ],
 "metadata": {
  "kernelspec": {
   "display_name": "base",
   "language": "python",
   "name": "python3"
  },
  "language_info": {
   "codemirror_mode": {
    "name": "ipython",
    "version": 3
   },
   "file_extension": ".py",
   "mimetype": "text/x-python",
   "name": "python",
   "nbconvert_exporter": "python",
   "pygments_lexer": "ipython3",
   "version": "3.12.4"
  }
 },
 "nbformat": 4,
 "nbformat_minor": 2
}
